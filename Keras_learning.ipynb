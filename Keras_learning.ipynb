{
 "cells": [
  {
   "cell_type": "code",
   "execution_count": 188,
   "metadata": {},
   "outputs": [],
   "source": [
    "import numpy as np \n",
    "import pandas as pd \n",
    "from keras.models import Sequential,load_model\n",
    "from keras.layers import LSTM,Dense,Activation\n",
    "from sklearn.preprocessing import StandardScaler\n",
    "import matplotlib.pyplot as plt\n",
    "import pickle\n",
    "from keras import Model\n",
    "from sklearn.model_selection import train_test_split\n",
    "import matplotlib.pyplot as plt"
   ]
  },
  {
   "cell_type": "code",
   "execution_count": 189,
   "metadata": {},
   "outputs": [],
   "source": [
    "pickle_in = open('GOOGL_data_from_quandl.pickle','rb')\n",
    "df = pickle.load(pickle_in)\n",
    "df['Close_10MA'] = df['Adj. Close'].rolling(window=10).mean()\n",
    "df['Volume_10SUM'] = df['Adj. Volume'].rolling(window=10).sum()"
   ]
  },
  {
   "cell_type": "code",
   "execution_count": 190,
   "metadata": {},
   "outputs": [],
   "source": [
    "df['target']= df['Adj. Close'].shift(-1)  #預測幾天後的close\n",
    "df.dropna(inplace=True)\n",
    "df_pre = df[['Close_10MA']]"
   ]
  },
  {
   "cell_type": "code",
   "execution_count": 191,
   "metadata": {},
   "outputs": [],
   "source": [
    "scaler = StandardScaler()\n",
    "X = np.array(df_pre)\n",
    "y = np.array(df['target'])\n",
    "X = scaler.fit_transform(X)  #標準化"
   ]
  },
  {
   "cell_type": "code",
   "execution_count": 192,
   "metadata": {},
   "outputs": [],
   "source": [
    "track_back = 1  #以過去多少天的時間序列來訓練\n",
    "X_train,X_test,y_train,y_test = train_test_split(X,y,test_size=0.2)\n",
    "#train_adjust_size=X_train.shape[0] % track_back\n",
    "#X_train = X_train[:-train_adjust_size]\n",
    "#y_train = y_train[:-train_adjust_size]\n",
    "#test_adjust_size=X_test.shape[0] % track_back\n",
    "#X_test = X_test[test_adjust_size:]\n",
    "#y_test = y_test[test_adjust_size:]\n",
    "features=X_train.shape[1]"
   ]
  },
  {
   "cell_type": "code",
   "execution_count": 193,
   "metadata": {},
   "outputs": [],
   "source": [
    "X_train = np.reshape(X_train, (int(X_train.shape[0]/track_back), track_back, X_train.shape[1]))\n",
    "y_train = np.reshape(y_train, (int(y_train.shape[0]/track_back), track_back))\n",
    "X_test = np.reshape(X_test, (int(X_test.shape[0]/track_back), track_back, X_test.shape[1]))\n",
    "y_test = np.reshape(y_test, (int(y_test.shape[0]/track_back), track_back))"
   ]
  },
  {
   "cell_type": "code",
   "execution_count": 205,
   "metadata": {},
   "outputs": [],
   "source": [
    "model = Sequential()\n",
    "model.add(LSTM(units=400,input_shape=(track_back,features),return_sequences=True))\n",
    "model.add(LSTM(units=400))\n",
    "model.add(Dense(units =track_back))\n",
    "model.add(Activation('relu'))\n",
    "model.compile(optimizer='adam',loss='mae')"
   ]
  },
  {
   "cell_type": "code",
   "execution_count": 206,
   "metadata": {},
   "outputs": [
    {
     "name": "stdout",
     "output_type": "stream",
     "text": [
      "Train on 2731 samples, validate on 683 samples\n",
      "Epoch 1/20\n",
      "2731/2731 [==============================] - 12s 4ms/step - loss: 345.2566 - val_loss: 271.9541\n",
      "Epoch 2/20\n",
      "2731/2731 [==============================] - 8s 3ms/step - loss: 246.9266 - val_loss: 214.4291\n",
      "Epoch 3/20\n",
      "2731/2731 [==============================] - 8s 3ms/step - loss: 207.3711 - val_loss: 194.2215\n",
      "Epoch 4/20\n",
      "2731/2731 [==============================] - 8s 3ms/step - loss: 196.1505 - val_loss: 164.8683\n",
      "Epoch 5/20\n",
      "2731/2731 [==============================] - 8s 3ms/step - loss: 149.3151 - val_loss: 127.6445\n",
      "Epoch 6/20\n",
      "2731/2731 [==============================] - 10s 4ms/step - loss: 124.9151 - val_loss: 107.3165\n",
      "Epoch 7/20\n",
      "2731/2731 [==============================] - 12s 4ms/step - loss: 104.3869 - val_loss: 88.8478\n",
      "Epoch 8/20\n",
      "2731/2731 [==============================] - 9s 3ms/step - loss: 86.2398 - val_loss: 71.3088\n",
      "Epoch 9/20\n",
      "2731/2731 [==============================] - 9s 3ms/step - loss: 69.9862 - val_loss: 59.0377\n",
      "Epoch 10/20\n",
      "2731/2731 [==============================] - 9s 3ms/step - loss: 59.6805 - val_loss: 50.9355\n",
      "Epoch 11/20\n",
      "2731/2731 [==============================] - 9s 3ms/step - loss: 51.6093 - val_loss: 44.7199\n",
      "Epoch 12/20\n",
      "2731/2731 [==============================] - 8s 3ms/step - loss: 43.4198 - val_loss: 37.8228\n",
      "Epoch 13/20\n",
      "2731/2731 [==============================] - 8s 3ms/step - loss: 36.4944 - val_loss: 31.0342\n",
      "Epoch 14/20\n",
      "2731/2731 [==============================] - 8s 3ms/step - loss: 31.0671 - val_loss: 26.8270\n",
      "Epoch 15/20\n",
      "2731/2731 [==============================] - 8s 3ms/step - loss: 26.5290 - val_loss: 23.5246\n",
      "Epoch 16/20\n",
      "2731/2731 [==============================] - 9s 3ms/step - loss: 23.5954 - val_loss: 22.4373\n",
      "Epoch 17/20\n",
      "2731/2731 [==============================] - 9s 3ms/step - loss: 21.4762 - val_loss: 19.4005\n",
      "Epoch 18/20\n",
      "2731/2731 [==============================] - 9s 3ms/step - loss: 20.0126 - val_loss: 17.9286\n",
      "Epoch 19/20\n",
      "2731/2731 [==============================] - 9s 3ms/step - loss: 18.3781 - val_loss: 16.5700\n",
      "Epoch 20/20\n",
      "2731/2731 [==============================] - 10s 4ms/step - loss: 16.7183 - val_loss: 15.1761\n"
     ]
    },
    {
     "data": {
      "text/plain": [
       "<keras.callbacks.History at 0x1524e3eb8>"
      ]
     },
     "execution_count": 206,
     "metadata": {},
     "output_type": "execute_result"
    }
   ],
   "source": [
    "model.fit(X_train, y_train, epochs = 20, batch_size =10,shuffle=True,validation_data=(X_test,y_test))"
   ]
  },
  {
   "cell_type": "code",
   "execution_count": 180,
   "metadata": {},
   "outputs": [],
   "source": [
    "model.save('model_data.h5')"
   ]
  },
  {
   "cell_type": "code",
   "execution_count": 181,
   "metadata": {},
   "outputs": [],
   "source": [
    "model=load_model('model_data.h5')"
   ]
  },
  {
   "cell_type": "code",
   "execution_count": 207,
   "metadata": {},
   "outputs": [],
   "source": [
    "pretest=np.array(df_pre['Close_10MA'])\n",
    "pretest = np.reshape(pretest,(pretest.shape[0],1))"
   ]
  },
  {
   "cell_type": "code",
   "execution_count": 208,
   "metadata": {},
   "outputs": [],
   "source": [
    "pretest = scaler.fit_transform(pretest)\n",
    "pretest = np.array([[i] for i in pretest])\n",
    "predict_result=model.predict(pretest)"
   ]
  },
  {
   "cell_type": "code",
   "execution_count": 209,
   "metadata": {},
   "outputs": [
    {
     "data": {
      "text/plain": [
       "<matplotlib.legend.Legend at 0x1483a32b0>"
      ]
     },
     "execution_count": 209,
     "metadata": {},
     "output_type": "execute_result"
    },
    {
     "data": {
      "image/png": "[encoded data removed]",
      "text/plain": [
       "<Figure size 432x288 with 1 Axes>"
      ]
     },
     "metadata": {
      "needs_background": "light"
     },
     "output_type": "display_data"
    }
   ],
   "source": [
    "df['Predict_result'] = predict_result[:]\n",
    "df['Predict_result']=df['Predict_result'].shift(1) #因為是預測未來\n",
    "plt.plot(df['Adj. Close'],label='History')\n",
    "plt.plot(df['Predict_result'],label='Predict')\n",
    "plt.legend()"
   ]
  },
  {
   "cell_type": "code",
   "execution_count": null,
   "metadata": {},
   "outputs": [],
   "source": []
  }
 ],
 "metadata": {
  "kernelspec": {
   "display_name": "Python 3",
   "language": "python",
   "name": "python3"
  },
  "language_info": {
   "codemirror_mode": {
    "name": "ipython",
    "version": 3
   },
   "file_extension": ".py",
   "mimetype": "text/x-python",
   "name": "python",
   "nbconvert_exporter": "python",
   "pygments_lexer": "ipython3",
   "version": "3.6.8"
  }
 },
 "nbformat": 4,
 "nbformat_minor": 2
}
